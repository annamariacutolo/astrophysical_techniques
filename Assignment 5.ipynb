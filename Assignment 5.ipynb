{
 "cells": [
  {
   "cell_type": "markdown",
   "id": "1e735e97",
   "metadata": {},
   "source": [
    "# Machine Learning Exercise C"
   ]
  },
  {
   "cell_type": "code",
   "execution_count": 1,
   "id": "8a63447c",
   "metadata": {},
   "outputs": [],
   "source": [
    "import warnings\n",
    "import astropy.units as u\n",
    "import matplotlib.pyplot as plt\n",
    "import numpy as np\n",
    "from astropy.coordinates import SkyCoord\n",
    "from astropy import table\n",
    "from astroquery.gaia import Gaia\n",
    "from astroquery.sdss import SDSS\n",
    "\n",
    "warnings.filterwarnings('ignore')\n",
    "\n",
    "Gaia.ROW_LIMIT = -1\n",
    "\n",
    "plt.style.use(\"seaborn-darkgrid\")\n",
    "plt.rcParams['figure.figsize'] = [12, 8]"
   ]
  },
  {
   "cell_type": "markdown",
   "id": "f9486134",
   "metadata": {},
   "source": [
    "## Trained random forest model from notebook"
   ]
  },
  {
   "cell_type": "code",
   "execution_count": 2,
   "id": "7a06bf2b",
   "metadata": {},
   "outputs": [],
   "source": [
    "# define cone\n",
    "ra_cone = 180 * u.degree\n",
    "dec_cone = 40 * u.degree\n",
    "coord = SkyCoord(ra=ra_cone, dec=dec_cone, frame='icrs')\n",
    "radius = 3 * u.degree\n",
    "region_radius = radius / np.cos(np.deg2rad(coord.dec.degree))"
   ]
  },
  {
   "cell_type": "code",
   "execution_count": 3,
   "id": "b8f0946a",
   "metadata": {},
   "outputs": [
    {
     "name": "stdout",
     "output_type": "stream",
     "text": [
      "INFO: Query finished. [astroquery.utils.tap.core]\n",
      "Found 40942 Gaia sources\n"
     ]
    }
   ],
   "source": [
    "# cone search in Gaia\n",
    "job = Gaia.cone_search_async(coord, radius)\n",
    "gaia_results = job.get_results()\n",
    "gaia_results = gaia_results[(gaia_results[\"phot_g_mean_mag\"] > 16) & (gaia_results[\"phot_g_mean_mag\"] < 20.5) & (gaia_results[\"astrometric_params_solved\"] == 31)]\n",
    "print(f\"Found {len(gaia_results)} Gaia sources\")"
   ]
  },
  {
   "cell_type": "code",
   "execution_count": 4,
   "id": "c019d1a1",
   "metadata": {},
   "outputs": [
    {
     "name": "stdout",
     "output_type": "stream",
     "text": [
      "Found 9273 SDSS spectroscopic sources, with 5219 QSOs\n"
     ]
    }
   ],
   "source": [
    "# cone search in SDSS for spectroscopic objects\n",
    "specobj_fields = [\"class\", \"sciencePrimary\"]\n",
    "photoobj_fields = [\"ra\", \"dec\", \"type\", \"psfMag_u\", \"psfMag_g\", \"psfMag_r\", \"psfMag_i\", \"psfMag_z\"]\n",
    "sdss_spec_results = SDSS.query_region(coord, region_radius, spectro=True, specobj_fields=specobj_fields, photoobj_fields=photoobj_fields)\n",
    "sdss_spec_results = sdss_spec_results[(sdss_spec_results[\"sciencePrimary\"] == 1) & (sdss_spec_results[\"type\"] == 6)]\n",
    "print(f\"Found {len(sdss_spec_results)} SDSS spectroscopic sources, with {np.sum(sdss_spec_results['class'] == 'QSO')} QSOs\")"
   ]
  },
  {
   "cell_type": "code",
   "execution_count": 5,
   "id": "027632d3",
   "metadata": {},
   "outputs": [
    {
     "name": "stdout",
     "output_type": "stream",
     "text": [
      "Found 2909 cross-matches between Gaia and SDSS spectroscopic sources, with 1204 QSOs\n"
     ]
    }
   ],
   "source": [
    "# cross match Gaia and SDSS and stack into single sources table\n",
    "gaia_coord = SkyCoord(gaia_results[\"ra\"], gaia_results[\"dec\"], unit=u.degree)\n",
    "sdss_spec_coord = SkyCoord(sdss_spec_results[\"ra\"], sdss_spec_results[\"dec\"], unit=u.degree)\n",
    "idx, d2d, _ = gaia_coord.match_to_catalog_sky(sdss_spec_coord)\n",
    "close_match = d2d < 1 * u.arcsec\n",
    "gaia_matched = gaia_results[close_match]\n",
    "sdss_spec_matched = sdss_spec_results[idx[close_match]]\n",
    "sources = table.hstack([gaia_matched, sdss_spec_matched], table_names=[\"gaia\", \"sdss\"])\n",
    "print(f\"Found {len(sources)} cross-matches between Gaia and SDSS spectroscopic sources, with {np.sum(sources['class'] == 'QSO')} QSOs\")"
   ]
  },
  {
   "cell_type": "code",
   "execution_count": 6,
   "id": "327b097d",
   "metadata": {},
   "outputs": [],
   "source": [
    "# add feature columns to sources\n",
    "pmtot = (sources[\"pmra\"]**2 + sources[\"pmdec\"]**2)**0.5\n",
    "pmtot_error = (sources[\"pmra_error\"]**2 + sources[\"pmdec_error\"]**2 + 2 * sources[\"pmra_pmdec_corr\"] * sources[\"pmra_error\"] * sources[\"pmdec_error\"])**0.5\n",
    "sources[\"pm_significance\"] = pmtot / pmtot_error\n",
    "sources[\"u_g\"] = sources[\"psfMag_u\"] - sources[\"psfMag_g\"]\n",
    "sources[\"g_r\"] = sources[\"psfMag_g\"] - sources[\"psfMag_r\"]\n",
    "sources[\"r_i\"] = sources[\"psfMag_r\"] - sources[\"psfMag_i\"]\n",
    "sources[\"i_z\"] = sources[\"psfMag_i\"] - sources[\"psfMag_z\"]"
   ]
  },
  {
   "cell_type": "code",
   "execution_count": 7,
   "id": "0192af46",
   "metadata": {},
   "outputs": [],
   "source": [
    "y = (sources[\"class\"] == \"QSO\").astype(np.int)\n",
    "features = [\"pm_significance\", \"u_g\", \"g_r\", \"r_i\", \"i_z\", \"phot_g_mean_mag\"]\n",
    "X = np.empty((len(y), len(features)))\n",
    "for i, feat in enumerate(features):\n",
    "    X[:, i] = sources[feat]"
   ]
  },
  {
   "cell_type": "code",
   "execution_count": 8,
   "id": "7e2c0998",
   "metadata": {},
   "outputs": [],
   "source": [
    "from sklearn.model_selection import train_test_split\n",
    "X_train, X_test, y_train, y_test = train_test_split(X, y, random_state=0, stratify=y)"
   ]
  },
  {
   "cell_type": "code",
   "execution_count": 9,
   "id": "9be2c627",
   "metadata": {},
   "outputs": [],
   "source": [
    "from sklearn.ensemble import RandomForestClassifier\n",
    "clf = RandomForestClassifier(random_state=0, n_jobs=1, class_weight=\"balanced_subsample\")\n",
    "model = clf.fit(X_train, y_train)"
   ]
  },
  {
   "cell_type": "markdown",
   "id": "c175f463",
   "metadata": {},
   "source": [
    "## Small cone search to find objects and predict whether QSOs"
   ]
  },
  {
   "cell_type": "code",
   "execution_count": 24,
   "id": "d43968cb",
   "metadata": {},
   "outputs": [],
   "source": [
    "# define small cone\n",
    "ra_cone = 180 * u.degree\n",
    "dec_cone = 10 * u.degree\n",
    "coord = SkyCoord(ra=ra_cone, dec=dec_cone, frame='icrs')\n",
    "radius = 0.5 * u.degree\n",
    "region_radius = radius / np.cos(np.deg2rad(coord.dec.degree))"
   ]
  },
  {
   "cell_type": "code",
   "execution_count": 25,
   "id": "d50afe5b",
   "metadata": {},
   "outputs": [
    {
     "name": "stdout",
     "output_type": "stream",
     "text": [
      "INFO: Query finished. [astroquery.utils.tap.core]\n",
      "Found 1406 Gaia sources\n"
     ]
    }
   ],
   "source": [
    "# cone search in Gaia\n",
    "job = Gaia.cone_search_async(coord, radius)\n",
    "gaia_results = job.get_results()\n",
    "gaia_results = gaia_results[(gaia_results[\"phot_g_mean_mag\"] > 16) & (gaia_results[\"phot_g_mean_mag\"] < 20.5) & (gaia_results[\"astrometric_params_solved\"] == 31)]\n",
    "print(f\"Found {len(gaia_results)} Gaia sources\")"
   ]
  },
  {
   "cell_type": "code",
   "execution_count": 26,
   "id": "f458daf9",
   "metadata": {},
   "outputs": [
    {
     "name": "stdout",
     "output_type": "stream",
     "text": [
      "Found 12657 SDSS photometric sources\n"
     ]
    }
   ],
   "source": [
    "# cone search in SDSS for photometric objects\n",
    "photoobj_fields = [\"ra\", \"dec\", \"type\", \"psfMag_u\", \"psfMag_g\", \"psfMag_r\", \"psfMag_i\", \"psfMag_z\"]\n",
    "sdss_phot_results = SDSS.query_region(coord, region_radius, photoobj_fields=photoobj_fields)\n",
    "sdss_phot_results = sdss_phot_results[(sdss_phot_results[\"type\"] == 6)]\n",
    "print(f\"Found {len(sdss_phot_results)} SDSS photometric sources\")"
   ]
  },
  {
   "cell_type": "code",
   "execution_count": 27,
   "id": "289ba6ce",
   "metadata": {},
   "outputs": [
    {
     "name": "stdout",
     "output_type": "stream",
     "text": [
      "Found 1360 cross-matches between Gaia and SDSS photometric sources\n"
     ]
    }
   ],
   "source": [
    "# cross match Gaia and SDSS and stack into single sources table\n",
    "gaia_coord = SkyCoord(gaia_results[\"ra\"], gaia_results[\"dec\"], unit=u.degree)\n",
    "sdss_phot_coord = SkyCoord(sdss_phot_results[\"ra\"], sdss_phot_results[\"dec\"], unit=u.degree)\n",
    "idx, d2d, _ = gaia_coord.match_to_catalog_sky(sdss_phot_coord)\n",
    "close_match = d2d < 1 * u.arcsec\n",
    "gaia_matched = gaia_results[close_match]\n",
    "sdss_phot_matched = sdss_phot_results[idx[close_match]]\n",
    "sources = table.hstack([gaia_matched, sdss_phot_matched], table_names=[\"gaia\", \"sdss\"])\n",
    "print(f\"Found {len(sources)} cross-matches between Gaia and SDSS photometric sources\")"
   ]
  },
  {
   "cell_type": "code",
   "execution_count": 28,
   "id": "cc675048",
   "metadata": {},
   "outputs": [],
   "source": [
    "# add feature columns to sources\n",
    "pmtot = (sources[\"pmra\"]**2 + sources[\"pmdec\"]**2)**0.5\n",
    "pmtot_error = (sources[\"pmra_error\"]**2 + sources[\"pmdec_error\"]**2 + 2 * sources[\"pmra_pmdec_corr\"] * sources[\"pmra_error\"] * sources[\"pmdec_error\"])**0.5\n",
    "sources[\"pm_significance\"] = pmtot / pmtot_error\n",
    "sources[\"u_g\"] = sources[\"psfMag_u\"] - sources[\"psfMag_g\"]\n",
    "sources[\"g_r\"] = sources[\"psfMag_g\"] - sources[\"psfMag_r\"]\n",
    "sources[\"r_i\"] = sources[\"psfMag_r\"] - sources[\"psfMag_i\"]\n",
    "sources[\"i_z\"] = sources[\"psfMag_i\"] - sources[\"psfMag_z\"]"
   ]
  },
  {
   "cell_type": "code",
   "execution_count": 29,
   "id": "3c0f1bfe",
   "metadata": {},
   "outputs": [],
   "source": [
    "features = [\"pm_significance\", \"u_g\", \"g_r\", \"r_i\", \"i_z\", \"phot_g_mean_mag\"]\n",
    "X = np.empty((len(sources), len(features)))\n",
    "for i, feat in enumerate(features):\n",
    "    X[:, i] = sources[feat]"
   ]
  },
  {
   "cell_type": "code",
   "execution_count": 30,
   "id": "7b4dcb17",
   "metadata": {},
   "outputs": [],
   "source": [
    "predictions = model.predict(X)\n",
    "probabilities = model.predict_proba(X)[:, 1]"
   ]
  },
  {
   "cell_type": "code",
   "execution_count": 31,
   "id": "ef8810b2",
   "metadata": {},
   "outputs": [],
   "source": [
    "qsos = []\n",
    "for i, num in enumerate(predictions):\n",
    "    if num == 1:\n",
    "        qsos.append(i)"
   ]
  },
  {
   "cell_type": "code",
   "execution_count": 32,
   "id": "fda02a74",
   "metadata": {},
   "outputs": [
    {
     "data": {
      "text/plain": [
       "<matplotlib.legend.Legend at 0x7fd30ae56970>"
      ]
     },
     "execution_count": 32,
     "metadata": {},
     "output_type": "execute_result"
    },
    {
     "data": {
      "image/png": "[encoded data removed]",
      "text/plain": [
       "<Figure size 864x576 with 1 Axes>"
      ]
     },
     "metadata": {},
     "output_type": "display_data"
    }
   ],
   "source": [
    "plt.hist(probabilities[predictions == 0], histtype=\"step\", label=\"Not QSO\", bins=np.linspace(0,1,40), lw=2)\n",
    "plt.hist(probabilities[predictions == 1], histtype=\"step\", label=\"QSO\", bins=np.linspace(0,1,40), lw=2)\n",
    "plt.xlabel(\"Model probability of being QSO\")\n",
    "plt.ylabel(\"N\")\n",
    "plt.legend()"
   ]
  },
  {
   "cell_type": "code",
   "execution_count": 33,
   "id": "8e57ed43",
   "metadata": {},
   "outputs": [
    {
     "name": "stdout",
     "output_type": "stream",
     "text": [
      "Predicted QSO at index 113 in sources is a STAR\n",
      "Predicted QSO at index 301 in sources is a QSO\n",
      "Predicted QSO at index 531 in sources is a QSO\n",
      "Predicted QSO at index 969 in sources is a QSO\n",
      "Predicted QSO at index 1046 in sources is a QSO\n",
      "Predicted QSO at index 1085 in sources is a QSO\n",
      "Predicted QSO at index 1188 in sources is a QSO\n",
      "Predicted QSO at index 1356 in sources is a GALAXY\n"
     ]
    }
   ],
   "source": [
    "# search SDSS for QSOs\n",
    "for qso in qsos:\n",
    "    ra = sources[qso]['ra_sdss'] * u.degree\n",
    "    dec = sources[qso]['dec_sdss'] * u.degree\n",
    "    coord = SkyCoord(ra=ra, dec=dec, frame='icrs')\n",
    "    specobj_fields = [\"class\"]\n",
    "    sdss_spec_results = SDSS.query_region(coord, spectro=True, specobj_fields=specobj_fields)\n",
    "    if sdss_spec_results:\n",
    "        print(f\"Predicted QSO at index {qso} in sources is a {sdss_spec_results[0]['class']}\")"
   ]
  },
  {
   "cell_type": "code",
   "execution_count": 34,
   "id": "ec015419",
   "metadata": {},
   "outputs": [
    {
     "data": {
      "text/plain": [
       "71"
      ]
     },
     "execution_count": 34,
     "metadata": {},
     "output_type": "execute_result"
    }
   ],
   "source": [
    "len(qsos)"
   ]
  },
  {
   "cell_type": "markdown",
   "id": "fd463816",
   "metadata": {},
   "source": [
    "To manually check the predicted QSOs, I used the SDSS query to find spectroscopic data and check if the class was QSO. For the small cone using the same ra = 180 and dec = 40, all sources that had spectroscopic data were classed as QSOs, and the same when lowering to dec = 30 and 20 although the probability for being a QSO was decreasing. For dec = 10 and 0, the probability was very low and the model incorrectly classified quite a few of the known spectroscopic objects which were classed as stars or galaxies."
   ]
  },
  {
   "cell_type": "code",
   "execution_count": null,
   "id": "54f398c1",
   "metadata": {},
   "outputs": [],
   "source": []
  }
 ],
 "metadata": {
  "kernelspec": {
   "display_name": "Python 3 (ipykernel)",
   "language": "python",
   "name": "python3"
  },
  "language_info": {
   "codemirror_mode": {
    "name": "ipython",
    "version": 3
   },
   "file_extension": ".py",
   "mimetype": "text/x-python",
   "name": "python",
   "nbconvert_exporter": "python",
   "pygments_lexer": "ipython3",
   "version": "3.9.7"
  }
 },
 "nbformat": 4,
 "nbformat_minor": 5
}
